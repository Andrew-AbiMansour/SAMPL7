{
 "cells": [
  {
   "cell_type": "markdown",
   "metadata": {},
   "source": [
    "# Docking fragments to PHIP2 site 1\n",
    "\n",
    "This content is by Nathan Lim and David Mobley, originally writen/adapted for a course (and available on GitHub at https://github.com/MobleyLab/drug-computing/blob/master/uci-pharmsci/lectures/docking_scoring_pose/OEDocking.ipynb) with heavy influence from the OpenEye documentation. It was adapted by David Mobley to the present PHIP2 Stage 2 challenge, and also utilizes examples I prepared for SAMPL5. https://github.com/samplchallenges/SAMPL6/blob/master/host_guest/GenerateInputs.ipynb"
   ]
  },
  {
   "cell_type": "code",
   "execution_count": 1,
   "metadata": {},
   "outputs": [],
   "source": [
    "#Import our required openeye modules\n",
    "from openeye import oechem, oedocking, oeomega\n",
    "import os"
   ]
  },
  {
   "cell_type": "code",
   "execution_count": 2,
   "metadata": {},
   "outputs": [],
   "source": [
    "# Load protein as preparation for making a \"receptor\" for docking\n",
    "#protein_file = '../../../PHIPA_C2_Apo.pdb'\n",
    "protein_file = '5enh_protein.pdb'\n",
    "ligand_file = '5enh_ligand.pdb'\n",
    "\n",
    "protein = oechem.OEGraphMol()\n",
    "ligand = oechem.OEGraphMol()\n",
    "ifile = oechem.oemolistream(protein_file)\n",
    "oechem.OEReadMolecule(ifile, protein)\n",
    "ifile.close()\n",
    "ifile = oechem.oemolistream(ligand_file)\n",
    "oechem.OEReadMolecule(ifile, ligand)\n",
    "ifile.close()\n",
    "#ifile = 'PHIPA_C2_DU.oedu'\n",
    "#du = oechem.OEDesignUnit()\n",
    "#oechem.OEReadDesignUnit(ifile, du)\n",
    "#du.GetProtein(protein)\n",
    "\n",
    "# INPUT BINDING SITE LOCATION\n",
    "siteloc = oechem.OEFloatArray(3)\n",
    "siteloc[0] = -19.150\n",
    "siteloc[1] = -12.842\n",
    "siteloc[2] = 24.7000\n",
    "\n",
    "# Receptor file name\n",
    "receptor_file = '5enh_prepped.oeb'\n",
    "#receptor_file = 'PHIP2_apo_prepped.oeb'\n",
    "receptor = oechem.OEGraphMol()\n",
    "\n",
    "# Prep receptor\n",
    "if not os.path.isfile(receptor_file):\n",
    "    oedocking.OEMakeReceptor(receptor, protein, ligand)\n",
    "    #oedocking.OEMakeReceptor(receptor, protein, siteloc[0], siteloc[1], siteloc[2])\n",
    "    oedocking.OEWriteReceptorFile(receptor, receptor_file)\n",
    "else:\n",
    "    #Read in our receptor from disc\n",
    "    if not oedocking.OEReadReceptorFile( receptor, receptor_file ):\n",
    "    # raise an exception if the receptor file cannot be read\n",
    "        raise Exception(\"Unable to read receptor from {0}\".format( receptor_file ))"
   ]
  },
  {
   "cell_type": "code",
   "execution_count": 3,
   "metadata": {},
   "outputs": [],
   "source": [
    "#Set the docking method and other paramters\n",
    "# Note: Chemgauss4 is the scoring function for FRED\n",
    "dock_method = oedocking.OEDockMethod_Chemgauss4\n",
    "dock_resolution = oedocking.OESearchResolution_Default\n",
    "sdtag = oedocking.OEDockMethodGetName( dock_method )\n",
    "\n",
    "#Generate our OEDocking object\n",
    "dock = oedocking.OEDock( dock_method, dock_resolution)\n",
    "\n",
    "#Initialize the OEDocking by providing it the receptor\n",
    "if not dock.Initialize(receptor):\n",
    "    # raise an exception if the receptor cannot be initialized\n",
    "    raise Exception(\"Unable to initialize Docking with {0}\".format(receptor_file))"
   ]
  },
  {
   "cell_type": "markdown",
   "metadata": {},
   "source": [
    "Now that we have initialized our OEDocking object with our receptor, let's write a function that will take in the following input parameters:\n",
    "    - dock: OEDock object\n",
    "    - sdtag: string representing the name of the docking method\n",
    "    - numpose: int with the number of poses to generate for each ligand\n",
    "    - mcmol: multicomformer molecule"
   ]
  },
  {
   "cell_type": "code",
   "execution_count": 4,
   "metadata": {},
   "outputs": [],
   "source": [
    "def dock_molecule( dock: \"OEDock\", sdtag: str, num_poses: int, mcmol ) -> tuple:\n",
    "    ''' Docks the multiconfomer molecule, with the given number of poses\n",
    "        Returns a tuple of the docked molecule (dockedMol) and its score\n",
    "        i.e. ( dockedMol, score )\n",
    "    '''\n",
    "    dockedMol = oechem.OEMol()\n",
    "\n",
    "    #Dock the molecule into a given number of poses\n",
    "    res = dock.DockMultiConformerMolecule(dockedMol, mcmol, num_poses)\n",
    "    \n",
    "    if res == oedocking.OEDockingReturnCode_Success:\n",
    "        \n",
    "        #Annotate the molecule with the score and SDTag that contains the docking method\n",
    "        oedocking.OESetSDScore(dockedMol, dock, sdtag)\n",
    "        dock.AnnotatePose(dockedMol)\n",
    "        score = dock.ScoreLigand(dockedMol)\n",
    "        oechem.OESetSDData(dockedMol, sdtag, \"{}\".format(score))\n",
    "        return dockedMol, score\n",
    "    \n",
    "    else:\n",
    "        # raise an exception if the docking is not successful\n",
    "        raise Exception(\"Unable to dock ligand {0} to receptor\".format( dockedMol ))"
   ]
  },
  {
   "cell_type": "markdown",
   "metadata": {},
   "source": [
    "With the docking function written, we can then loop over our 3D molecules and dock them to the given receptor"
   ]
  },
  {
   "cell_type": "code",
   "execution_count": 5,
   "metadata": {},
   "outputs": [],
   "source": [
    "# Read input molecule SMILES\n",
    "ligand_file = '../../../Stage-2-input-data/site-1_fragment-hits.csv'\n",
    "file = open(ligand_file,'r')\n",
    "text = file.readlines()\n",
    "file.close()\n",
    "ligands = {}\n",
    "\n",
    "omega = oeomega.OEOmega()\n",
    "omega.SetMaxConfs(500)\n",
    "# Temporary hack for F501 and F179, see https://github.com/samplchallenges/SAMPL7/issues/77\n",
    "omega.SetStrictStereo(False)\n",
    "\n",
    "for line in text:\n",
    "    tmp = line.split(',')\n",
    "    mol = oechem.OEMol()\n",
    "    mol.SetTitle(tmp[0])\n",
    "    smi = tmp[1].strip()\n",
    "    \n",
    "    # Parse SMILES to OEMol, generate conformers\n",
    "    oechem.OEParseSmiles(mol, smi)\n",
    "    status = omega(mol)\n",
    "    if not status:\n",
    "        print(f\"Error running omega on {tmp[0]}.\")\n",
    "    \n",
    "    # Store smiles string, mol w conformers to dictionary as tuple\n",
    "    ligands[tmp[0].strip()] = ( smi , mol)"
   ]
  },
  {
   "cell_type": "code",
   "execution_count": 6,
   "metadata": {},
   "outputs": [
    {
     "name": "stdout",
     "output_type": "stream",
     "text": [
      "Chemgauss4 F5 score = -6.9151\n",
      "Chemgauss4 F11 score = -6.7192\n",
      "Chemgauss4 F13 score = -6.8085\n",
      "Chemgauss4 F14 score = -6.6209\n",
      "Chemgauss4 F95 score = -7.8034\n",
      "Chemgauss4 F96 score = -6.9841\n",
      "Chemgauss4 F126 score = -7.1434\n",
      "Chemgauss4 F179 score = -7.6280\n",
      "Chemgauss4 F199 score = -6.0217\n",
      "Chemgauss4 F205 score = -6.1165\n",
      "Chemgauss4 F217 score = -8.1661\n",
      "Chemgauss4 F229 score = -8.8128\n",
      "Chemgauss4 F274 score = -6.9522\n",
      "Chemgauss4 F275 score = -6.4773\n",
      "Chemgauss4 F309 score = -6.0000\n",
      "Chemgauss4 F362 score = -5.9153\n",
      "Chemgauss4 F366 score = -7.2678\n",
      "Chemgauss4 F367 score = -7.9953\n",
      "Chemgauss4 F368 score = -6.5665\n",
      "Chemgauss4 F369 score = -7.0030\n",
      "Chemgauss4 F374 score = -7.6004\n",
      "Chemgauss4 F389 score = -7.3000\n",
      "Chemgauss4 F393 score = -6.2913\n",
      "Chemgauss4 F421 score = -7.6960\n",
      "Chemgauss4 F467 score = -7.0489\n",
      "Chemgauss4 F488 score = -8.6425\n",
      "Chemgauss4 F501 score = -7.2978\n",
      "Chemgauss4 F503 score = -7.0994\n",
      "Chemgauss4 F529 score = -6.3791\n",
      "Chemgauss4 F535 score = -6.5930\n",
      "Chemgauss4 F558 score = -8.1250\n",
      "Chemgauss4 F579 score = -8.1988\n",
      "Chemgauss4 F584 score = -6.5327\n",
      "Chemgauss4 F600 score = -6.5039\n",
      "Chemgauss4 F603 score = -7.1663\n",
      "Chemgauss4 F616 score = -7.0595\n",
      "Chemgauss4 F618 score = -7.5540\n",
      "Chemgauss4 F650 score = -8.7386\n",
      "Chemgauss4 F666 score = -8.2375\n",
      "Chemgauss4 F687 score = -8.4037\n",
      "Chemgauss4 F709 score = -8.0863\n",
      "Chemgauss4 F710 score = -7.9865\n",
      "Chemgauss4 F740 score = -7.4909\n",
      "Chemgauss4 F741 score = -8.0496\n",
      "Chemgauss4 F760 score = -7.2947\n",
      "Chemgauss4 F763 score = -7.0312\n"
     ]
    }
   ],
   "source": [
    "#Define how many docked poses to generate per molecule\n",
    "num_poses = 1\n",
    "\n",
    "outdir = 'poses'\n",
    "if not os.path.isdir(outdir): os.mkdir(outdir)\n",
    "\n",
    "#Read in our 3D molecules \n",
    "for lig_code in ligands:\n",
    "    #Call our docking function\n",
    "    dockedMol, score = dock_molecule( dock, sdtag, num_poses, ligands[lig_code][1] )\n",
    "    print(\"{} {} score = {:.4f}\".format(sdtag, dockedMol.GetTitle(), score))\n",
    "\n",
    "    # Write output; as per challenge instructions each fragment to separate file\n",
    "    ofs = oechem.oemolostream(os.path.join(outdir, f'PHIP2-{lig_code}-1.sdf'))\n",
    "    oechem.OEWriteMolecule(ofs, dockedMol)\n",
    "    ofs.close()"
   ]
  },
  {
   "cell_type": "code",
   "execution_count": 8,
   "metadata": {},
   "outputs": [],
   "source": [
    "# Make protein files to go along with submisssion\n",
    "import shutil\n",
    "for lig_code in ligands:\n",
    "    outname = os.path.join(outdir, f'PHIP2-{lig_code}-1.pdb')\n",
    "    shutil.copy(protein_file, outname)"
   ]
  },
  {
   "cell_type": "markdown",
   "metadata": {},
   "source": [
    "# Acknowledgements\n",
    "\n",
    "- Authors: Meghan Osato, Nathan M. Lim, David L. Mobley"
   ]
  },
  {
   "cell_type": "code",
   "execution_count": null,
   "metadata": {},
   "outputs": [],
   "source": []
  }
 ],
 "metadata": {
  "kernelspec": {
   "display_name": "Python [conda env:root] *",
   "language": "python",
   "name": "conda-root-py"
  },
  "language_info": {
   "codemirror_mode": {
    "name": "ipython",
    "version": 3
   },
   "file_extension": ".py",
   "mimetype": "text/x-python",
   "name": "python",
   "nbconvert_exporter": "python",
   "pygments_lexer": "ipython3",
   "version": "3.7.3"
  },
  "toc": {
   "nav_menu": {},
   "number_sections": true,
   "sideBar": true,
   "skip_h1_title": false,
   "toc_cell": false,
   "toc_position": {},
   "toc_section_display": "block",
   "toc_window_display": false
  }
 },
 "nbformat": 4,
 "nbformat_minor": 2
}
