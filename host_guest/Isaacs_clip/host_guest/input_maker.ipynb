{
 "cells": [
  {
   "cell_type": "code",
   "execution_count": 1,
   "metadata": {},
   "outputs": [
    {
     "name": "stdout",
     "output_type": "stream",
     "text": [
      "Getting list of molecule IDs...\n",
      "Done!\n"
     ]
    }
   ],
   "source": [
    "# Make lists of the guest smiles strings and the molecule identifiers \n",
    "file = 'trimertrip_guest_smiles.txt'\n",
    "\n",
    "file = open(file, 'r')\n",
    "text = file.readlines()\n",
    "file.close()\n",
    "\n",
    "print(\"Getting list of molecule IDs...\")   \n",
    "MoleculeIDs = [] #SAMPL7 Molecule ID \n",
    "smiles = [] #isomeric SMILES\n",
    "\n",
    "#Loop over lines and parse\n",
    "for line in text:\n",
    "    tmp = line.split(';') #Split into columns\n",
    "    MoleculeID = tmp[1].strip() #mol ID\n",
    "    smi = tmp[0] #smiles string\n",
    "    try:\n",
    "        MoleculeIDs.append(MoleculeID)\n",
    "        smiles.append(smi)\n",
    "    except:\n",
    "        print(\"Error storing line: %s\" % line)\n",
    "print(\"Done!\")"
   ]
  },
  {
   "cell_type": "code",
   "execution_count": 5,
   "metadata": {},
   "outputs": [
    {
     "data": {
      "text/plain": [
       "['g1',\n",
       " 'g2',\n",
       " 'g3',\n",
       " 'g4',\n",
       " 'g5',\n",
       " 'g6',\n",
       " 'g7',\n",
       " 'g8',\n",
       " 'g9',\n",
       " 'g10',\n",
       " 'g11',\n",
       " 'g12',\n",
       " 'g13',\n",
       " 'g14',\n",
       " 'g15']"
      ]
     },
     "execution_count": 5,
     "metadata": {},
     "output_type": "execute_result"
    }
   ],
   "source": [
    "MoleculeIDs"
   ]
  },
  {
   "cell_type": "code",
   "execution_count": null,
   "metadata": {},
   "outputs": [],
   "source": []
  },
  {
   "cell_type": "code",
   "execution_count": 4,
   "metadata": {},
   "outputs": [
    {
     "data": {
      "text/plain": [
       "['[NH3+]CCCC[NH3+]',\n",
       " '[NH3]CCCCC[NH3+]',\n",
       " '[NH3+]CCCCCC[NH3+]',\n",
       " '[NH3+]CCCCCCC[NH3+]',\n",
       " '[NH3+]CCCCCCCC[NH3+]',\n",
       " 'C[N+](C1(C2)C[C@H]3C[C@@H]2C[C@@H](C1)C3)(C)C',\n",
       " '[NH3+][C@H]1CC[C@H]([NH3+])CC1',\n",
       " '[NH3+]CC1=CC=C(C[NH3+])C=C1',\n",
       " '[NH3+]C1(C2)C[C@H]3C[C@@H]2C[C@@H](C1)C3',\n",
       " '[NH3+]C1(C2)C[C@H]3[C@H](C4)[C@@H]2[C@@H]5CC4([NH3+])C[C@H]3[C@@H]5C1',\n",
       " 'NC(C)C1(C2)C[C@H]3C[C@@H]2C[C@@H](C1)C3',\n",
       " 'CCCCCC[N+](C)(C)C',\n",
       " 'C[NH2+]CCCCCC[NH2+]C',\n",
       " 'C[NH+](C)CCCCCC[NH+](C)C',\n",
       " 'C[N+](C)(C)CCCCCC[N+](C)C']"
      ]
     },
     "execution_count": 4,
     "metadata": {},
     "output_type": "execute_result"
    }
   ],
   "source": [
    "smiles"
   ]
  },
  {
   "cell_type": "code",
   "execution_count": 11,
   "metadata": {},
   "outputs": [],
   "source": [
    "MoleculeIDs = ['g15']\n",
    "smiles = ['C[N+](C)(C)CCCCCC[N+](C)C.[Br-].[Br-]']"
   ]
  },
  {
   "cell_type": "code",
   "execution_count": 16,
   "metadata": {},
   "outputs": [
    {
     "name": "stdout",
     "output_type": "stream",
     "text": [
      "Error generating conformers for C[N+](C)(C)CCCCCC[N+](C)C.[Br-].[Br-], g15. Mol index is 0\n"
     ]
    }
   ],
   "source": [
    "from openeye.oechem import *\n",
    "from openeye.oeomega import * # conformer generation\n",
    "\n",
    "for idx in range( len( smiles ) ):\n",
    "    #initialize omega, this is a conformation generator\n",
    "    omega = OEOmega()\n",
    "    #set the maximum conformer generated to 1\n",
    "    omega.SetMaxConfs(1) \n",
    "    omega.SetIncludeInput(False)\n",
    "    omega.SetStrictAtomTypes(False) #Leniency in assigning atom types\n",
    "    omega.SetStrictStereo(False) #Don't generate conformers if stereochemistry not provided. Setting to false would pick a random stereoisomer\n",
    "    \n",
    "    # Generate new OEMol and parse SMILES\n",
    "    mol = OEMol()\n",
    "    OEParseSmiles( mol, smiles[idx])\n",
    "    # Generate one conformer\n",
    "    status = omega(mol)\n",
    "    if not status:\n",
    "        print(\"Error generating conformers for %s, %s. Mol index is %s\" % (smiles[idx], MoleculeIDs[idx],idx))\n",
    "\n",
    "    # Write out PDB of molecule\n",
    "    ofile = oemolostream('%s.pdb'%(MoleculeIDs[idx]))\n",
    "    OEWriteMolecule(ofile, mol)\n",
    "    ofile.close()\n",
    "\n",
    "    # Write out MOL2 of molecule\n",
    "    ofile = oemolostream('%s.mol2'%(MoleculeIDs[idx]))\n",
    "    OEWriteMolecule(ofile, mol)\n",
    "    ofile.close()\n",
    "    \n",
    "    # Write out SDF of molecule\n",
    "    ofile = oemolostream('%s.sdf'%(MoleculeIDs[idx]))\n",
    "    OEWriteMolecule(ofile, mol)\n",
    "    ofile.close()"
   ]
  },
  {
   "cell_type": "code",
   "execution_count": 3,
   "metadata": {},
   "outputs": [],
   "source": [
    "# Make files for NC(C)C1(C2)C[C@H]3C[C@@H]2C[C@@H](C1)C3 (g11) by picking a random stereoisomer\n",
    "idx = 10\n",
    "\n",
    "omega = OEOmega()\n",
    "#set the maximum conformer generated to 1\n",
    "omega.SetMaxConfs(1) \n",
    "omega.SetIncludeInput(False)\n",
    "omega.SetStrictAtomTypes(False) #Leniency in assigning atom types\n",
    "omega.SetStrictStereo(False) #Don't generate conformers if stereochemistry not provided. Setting to false would pick a random stereoisomer\n",
    "\n",
    "# Generate new OEMol and parse SMILES\n",
    "mol = OEMol()\n",
    "OEParseSmiles( mol, smiles[idx])\n",
    "# Generate one conformer\n",
    "status = omega(mol)\n",
    "if not status:\n",
    "    print(\"Error generating conformers for %s, %s. Mol index is %s\" % (smiles[idx], MoleculeIDs[idx],idx))\n",
    "\n",
    "# Write out PDB of molecule\n",
    "ofile = oemolostream('%s.pdb'%(MoleculeIDs[idx]))\n",
    "OEWriteMolecule(ofile, mol)\n",
    "ofile.close()\n",
    "\n",
    "# Write out MOL2 of molecule\n",
    "ofile = oemolostream('%s.mol2'%(MoleculeIDs[idx]))\n",
    "OEWriteMolecule(ofile, mol)\n",
    "ofile.close()\n",
    "\n",
    "# Write out SDF of molecule\n",
    "ofile = oemolostream('%s.sdf'%(MoleculeIDs[idx]))\n",
    "OEWriteMolecule(ofile, mol)\n",
    "ofile.close()"
   ]
  },
  {
   "cell_type": "code",
   "execution_count": null,
   "metadata": {
    "collapsed": true
   },
   "outputs": [],
   "source": []
  }
 ],
 "metadata": {
  "kernelspec": {
   "display_name": "Python [default]",
   "language": "python",
   "name": "python3"
  },
  "language_info": {
   "codemirror_mode": {
    "name": "ipython",
    "version": 3
   },
   "file_extension": ".py",
   "mimetype": "text/x-python",
   "name": "python",
   "nbconvert_exporter": "python",
   "pygments_lexer": "ipython3",
   "version": "3.6.7"
  }
 },
 "nbformat": 4,
 "nbformat_minor": 2
}
