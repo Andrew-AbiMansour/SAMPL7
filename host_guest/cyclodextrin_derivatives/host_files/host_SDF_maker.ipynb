{
 "cells": [
  {
   "cell_type": "code",
   "execution_count": 2,
   "metadata": {
    "collapsed": true
   },
   "outputs": [],
   "source": [
    "from openeye.oechem import *\n",
    "from openeye.oeomega import * \n",
    "import glob\n",
    "\n",
    "PDB_files = glob.glob(\"*mol2\")\n",
    "\n",
    "for idx in range( len( PDB_files ) ):\n",
    "    # Load molecule from provided MOL2 file \n",
    "    ofile = oemolistream( PDB_files[idx] )\n",
    "    mol = OEMol()\n",
    "    OEReadMolecule( ofile, mol )\n",
    "    ofile.close()\n",
    "\n",
    "    # Write out SDF of the molecule\n",
    "    ofile = oemolostream('%s.sdf'%( PDB_files[idx][:-5] ))\n",
    "    OEWriteMolecule(ofile, mol)\n",
    "    ofile.close()"
   ]
  },
  {
   "cell_type": "code",
   "execution_count": null,
   "metadata": {
    "collapsed": true
   },
   "outputs": [],
   "source": []
  }
 ],
 "metadata": {
  "kernelspec": {
   "display_name": "Python 3",
   "language": "python",
   "name": "python3"
  },
  "language_info": {
   "codemirror_mode": {
    "name": "ipython",
    "version": 3
   },
   "file_extension": ".py",
   "mimetype": "text/x-python",
   "name": "python",
   "nbconvert_exporter": "python",
   "pygments_lexer": "ipython3",
   "version": "3.6.0"
  }
 },
 "nbformat": 4,
 "nbformat_minor": 2
}
